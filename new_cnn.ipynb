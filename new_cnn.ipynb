{
  "nbformat": 4,
  "nbformat_minor": 0,
  "metadata": {
    "colab": {
      "provenance": [],
      "machine_shape": "hm",
      "gpuType": "A100"
    },
    "kernelspec": {
      "name": "python3",
      "display_name": "Python 3"
    },
    "language_info": {
      "name": "python"
    },
    "accelerator": "GPU"
  },
  "cells": [
    {
      "cell_type": "code",
      "execution_count": 24,
      "metadata": {
        "id": "G6iRrbmSCNuE"
      },
      "outputs": [],
      "source": [
        "import numpy as np\n",
        "import pandas as pd\n",
        "from PIL import Image\n",
        "import cv2\n",
        "import os\n",
        "import time\n",
        "from skimage.feature import hog\n",
        "from sklearn.model_selection import train_test_split\n",
        "from sklearn.metrics import accuracy_score, precision_score, recall_score, fbeta_score\n",
        "import torch\n",
        "from torch import nn, optim\n",
        "from torchvision import models, transforms, datasets\n",
        "from torch.utils.data import DataLoader, random_split\n",
        "from sklearn.linear_model import LogisticRegression\n",
        "from sklearn.ensemble import RandomForestClassifier, StackingClassifier\n",
        "from sklearn.neighbors import KNeighborsClassifier\n",
        "from sklearn.preprocessing import StandardScaler\n",
        "from sklearn.decomposition import PCA\n",
        "from sklearn.metrics import confusion_matrix, classification_report, ConfusionMatrixDisplay\n",
        "from scipy.stats import randint, uniform\n",
        "from sklearn.model_selection import RandomizedSearchCV\n",
        "from sklearn.utils.class_weight import compute_sample_weight\n",
        "import matplotlib.pyplot as plt\n",
        "import seaborn as sns\n",
        "import pickle\n",
        "from sklearn.preprocessing import LabelEncoder\n",
        "import warnings\n",
        "import shutil\n",
        "from tqdm import tqdm # Import tqdm function directly\n",
        "warnings.filterwarnings(\"ignore\")"
      ]
    },
    {
      "cell_type": "code",
      "source": [
        "#Process image data for feature extraction using CNN\n",
        "input_dir = '/content/CS610_AML_Group_Project/resized_images'\n",
        "full_set = datasets.ImageFolder(input_dir)"
      ],
      "metadata": {
        "id": "69uyWEnFFLy1"
      },
      "execution_count": 3,
      "outputs": []
    },
    {
      "cell_type": "code",
      "source": [
        "train_transform = transforms.Compose([\n",
        "    transforms.Resize((256, 256)),\n",
        "    transforms.RandomResizedCrop(224, scale=(0.8, 1.0)),\n",
        "    transforms.RandomHorizontalFlip(),\n",
        "    transforms.RandomVerticalFlip(),\n",
        "    transforms.RandomRotation(degrees = 15),\n",
        "    transforms.ColorJitter(brightness=0.1, contrast = 0.1),\n",
        "    transforms.ToTensor(),\n",
        "    transforms.Normalize([0.485,0.456,0.406],std=[0.229,0.224,0.225]) #ImageNet\n",
        "])\n",
        "\n",
        "val_test_transform = transforms.Compose([\n",
        "    transforms.Resize((224, 224)),\n",
        "    transforms.ToTensor(),\n",
        "     transforms.Normalize([0.485,0.456,0.406],std=[0.229,0.224,0.225]) #ImageNet\n",
        "])\n",
        "\n",
        "train_size = int(0.7*len(full_set))\n",
        "val_size = int(0.2*len(full_set))\n",
        "test_size = len(full_set)-train_size-val_size\n",
        "split_datasets = random_split(\n",
        "    full_set,\n",
        "    [train_size, val_size, test_size],\n",
        "    generator=torch.Generator().manual_seed(42)\n",
        ")\n",
        "\n",
        "train_indices = split_datasets[0].indices\n",
        "val_indices = split_datasets[1].indices\n",
        "test_indices = split_datasets[2].indices\n",
        "\n",
        "class CustomSubsetWithTransform(torch.utils.data.Dataset):\n",
        "    def __init__(self, dataset, indices, transform=None):\n",
        "        self.dataset = dataset\n",
        "        self.indices = indices\n",
        "        self.transform = transform\n",
        "\n",
        "    def __getitem__(self, idx):\n",
        "        original_idx = self.indices[idx]\n",
        "        img, label = self.dataset[original_idx]\n",
        "        if self.transform:\n",
        "            img = self.transform(img)\n",
        "        return img, label\n",
        "\n",
        "    def __len__(self):\n",
        "        return len(self.indices)\n",
        "train_img_dataset = CustomSubsetWithTransform(full_set, train_indices, train_transform)\n",
        "val_img_dataset = CustomSubsetWithTransform(full_set, val_indices, val_test_transform)\n",
        "test_img_dataset = CustomSubsetWithTransform(full_set, test_indices, val_test_transform)\n",
        "\n",
        "batch_size = 32\n",
        "train_loader = DataLoader(train_img_dataset, batch_size=batch_size, shuffle=True, num_workers=4, pin_memory=True)\n",
        "val_loader = DataLoader(val_img_dataset, batch_size=batch_size, num_workers=4, pin_memory=True)\n",
        "test_loader = DataLoader(test_img_dataset, batch_size=batch_size, num_workers=4, pin_memory=True)\n",
        "print(\"Data processing done\")"
      ],
      "metadata": {
        "colab": {
          "base_uri": "https://localhost:8080/"
        },
        "id": "QXQek35mFOz6",
        "outputId": "836dba48-8d72-40be-fdbc-d41d439d480c"
      },
      "execution_count": 141,
      "outputs": [
        {
          "output_type": "stream",
          "name": "stdout",
          "text": [
            "Data processing done\n"
          ]
        }
      ]
    },
    {
      "cell_type": "code",
      "source": [
        "#get classes from directory\n",
        "num_classes = len(full_set.classes)\n",
        "class_names = full_set.classes\n",
        "print(\"Number of classes (Full Set):\", num_classes,\"\\n\", full_set.classes)"
      ],
      "metadata": {
        "colab": {
          "base_uri": "https://localhost:8080/"
        },
        "id": "LNBdDRs4FX_5",
        "outputId": "4ca69b25-4690-4624-b29a-abd16bb5a8db"
      },
      "execution_count": 142,
      "outputs": [
        {
          "output_type": "stream",
          "name": "stdout",
          "text": [
            "Number of classes (Full Set): 50 \n",
            " ['adidas_forum_high', 'adidas_forum_low', 'adidas_gazelle', 'adidas_nmd_r1', 'adidas_samba', 'adidas_stan_smith', 'adidas_superstar', 'adidas_ultraboost', 'asics_gel-lyte_iii', 'converse_chuck_70_high', 'converse_chuck_70_low', 'converse_chuck_taylor_all-star_high', 'converse_chuck_taylor_all-star_low', 'converse_one_star', 'new_balance_327', 'new_balance_550', 'new_balance_574', 'new_balance_990', 'new_balance_992', 'nike_air_force_1_high', 'nike_air_force_1_low', 'nike_air_force_1_mid', 'nike_air_jordan_11', 'nike_air_jordan_1_high', 'nike_air_jordan_1_low', 'nike_air_jordan_3', 'nike_air_jordan_4', 'nike_air_max_1', 'nike_air_max_270', 'nike_air_max_90', 'nike_air_max_95', 'nike_air_max_97', 'nike_air_max_plus_(tn)', 'nike_air_vapormax_flyknit', 'nike_air_vapormax_plus', 'nike_blazer_mid_77', 'nike_cortez', 'nike_dunk_high', 'nike_dunk_low', 'puma_suede_classic', 'reebok_classic_leather', 'reebok_club_c_85', 'salomon_xt-6', 'vans_authentic', 'vans_old_skool', 'vans_sk8-hi', 'vans_slip-on_checkerboard', 'yeezy_700_wave_runner', 'yeezy_boost_350_v2', 'yeezy_slide']\n"
          ]
        }
      ]
    },
    {
      "cell_type": "code",
      "source": [
        "#check if cuda is available to use\n",
        "device = \"cuda\" if torch.cuda.is_available() else \"cpu\"\n",
        "print(device, \"is used\")"
      ],
      "metadata": {
        "colab": {
          "base_uri": "https://localhost:8080/"
        },
        "id": "O1jlBWKIFZL_",
        "outputId": "c51c2ce2-a371-48a6-9683-ef9bd72b09e5"
      },
      "execution_count": 143,
      "outputs": [
        {
          "output_type": "stream",
          "name": "stdout",
          "text": [
            "cuda is used\n"
          ]
        }
      ]
    },
    {
      "cell_type": "code",
      "source": [
        "model = models.resnet50(pretrained=True)\n",
        "model.fc = nn.Linear(model.fc.in_features, len(class_names))\n",
        "model = model.to(device)"
      ],
      "metadata": {
        "id": "iRiQLBBOGzyb"
      },
      "execution_count": 152,
      "outputs": []
    },
    {
      "cell_type": "code",
      "source": [
        "#Set up Loss and Optimiser\n",
        "criterion = nn.CrossEntropyLoss()\n",
        "optimizer = optim.AdamW(model.parameters(), lr=1e-4)"
      ],
      "metadata": {
        "id": "R4ARKTmfFco4"
      },
      "execution_count": 153,
      "outputs": []
    },
    {
      "cell_type": "code",
      "source": [
        "import torch\n",
        "from sklearn.metrics import accuracy_score\n",
        "from tqdm import tqdm # Assuming tqdm is imported if used in evaluation progress bar\n",
        "\n",
        "# Ensure 'device' and 'criterion' are defined globally or passed as arguments\n",
        "# Example:\n",
        "# device = torch.device(\"cuda\" if torch.cuda.is_available() else \"cpu\")\n",
        "# criterion = nn.CrossEntropyLoss() # Your loss function, e.g., CrossEntropyLoss\n",
        "\n",
        "def evaluate(model, loader, epoch_name=\"Validation\"):\n",
        "    \"\"\"\n",
        "    Evaluates the model's performance on a given dataset loader.\n",
        "\n",
        "    Args:\n",
        "        model (torch.nn.Module): The neural network model to evaluate.\n",
        "        loader (torch.utils.data.DataLoader): DataLoader for the dataset (validation or test set).\n",
        "        epoch_name (str, optional): A name for the current evaluation phase (e.g., \"Validation\"). Defaults to \"Validation\".\n",
        "\n",
        "    Returns:\n",
        "        tuple: A tuple containing (average_loss, accuracy_score).\n",
        "    \"\"\"\n",
        "    model.eval() # Set the model to evaluation mode (disables dropout, batchnorm updates, etc.)\n",
        "    all_preds = []\n",
        "    all_labels = []\n",
        "    running_loss = 0.0\n",
        "\n",
        "    with torch.no_grad(): # Disable gradient calculations to save memory and speed up computation\n",
        "        loop = tqdm(loader, desc=f\"{epoch_name} Epoch\", leave=False) # Optional: progress bar for evaluation\n",
        "        for images, labels in loop:\n",
        "            images, labels = images.to(device), labels.to(device) # Move data to the specified device (CPU/GPU)\n",
        "\n",
        "            outputs = model(images) # Perform forward pass\n",
        "            loss = criterion(outputs, labels) # Calculate the loss\n",
        "\n",
        "            preds = torch.argmax(outputs, dim=1) # Get predicted class indices\n",
        "            all_preds.extend(preds.cpu().numpy()) # Store predictions (move to CPU for numpy conversion)\n",
        "            all_labels.extend(labels.cpu().numpy()) # Store true labels (move to CPU for numpy conversion)\n",
        "            running_loss += loss.item() # Accumulate the loss for the current batch\n",
        "\n",
        "    # Calculate overall accuracy and average loss\n",
        "    acc = accuracy_score(all_labels, all_preds) if len(all_labels) > 0 else 0.0 # Calculate accuracy, handle empty labels\n",
        "    avg_loss = running_loss / len(loader) if len(loader) > 0 else 0.0 # Calculate average loss, handle empty loader\n",
        "\n",
        "    # Print evaluation results\n",
        "    print(f\"{epoch_name} Loss: {avg_loss:.4f}, Accuracy: {acc * 100:.2f}%\")\n",
        "\n",
        "    return avg_loss, acc # Return the average loss and accuracy"
      ],
      "metadata": {
        "id": "aVUunLRcHFb-"
      },
      "execution_count": 154,
      "outputs": []
    },
    {
      "cell_type": "code",
      "source": [
        "import torch\n",
        "import torch.nn as nn\n",
        "import torch.optim as optim\n",
        "from tqdm import tqdm\n",
        "from sklearn.metrics import accuracy_score\n",
        "import numpy as np\n",
        "\n",
        "best_val_loss = float('inf')\n",
        "patience = 5\n",
        "epochs_no_improve = 0\n",
        "\n",
        "\n",
        "def train(model, train_loader, val_loader, epochs=10, scheduler=None):\n",
        "    global best_val_loss, patience, epochs_no_improve\n",
        "\n",
        "    for epoch in range(epochs):\n",
        "\n",
        "        model.train() #\n",
        "        running_loss = 0.0\n",
        "        all_preds = []\n",
        "        all_labels = []\n",
        "        loop = tqdm(train_loader, desc=f\"Epoch [{epoch+1}/{epochs}]\", leave=False)\n",
        "\n",
        "        for images, labels in loop:\n",
        "            images, labels = images.to(device), labels.to(device)\n",
        "            optimizer.zero_grad()\n",
        "            outputs = model(images)\n",
        "            loss = criterion(outputs, labels)\n",
        "            loss.backward()\n",
        "            optimizer.step()\n",
        "\n",
        "            preds = torch.argmax(outputs, dim=1)\n",
        "            all_preds.extend(preds.cpu().numpy())\n",
        "            all_labels.extend(labels.cpu().numpy())\n",
        "            running_loss += loss.item()\n",
        "            loop.set_postfix(loss=loss.item())\n",
        "\n",
        "        train_acc = accuracy_score(all_labels, all_preds)\n",
        "        avg_train_loss = running_loss / len(train_loader)\n",
        "        print(f\"Epoch {epoch+1}/{epochs} - Train Loss: {avg_train_loss:.4f}, Train Accuracy: {train_acc * 100:.2f}%\")\n",
        "\n",
        "        val_loss, val_acc = evaluate(model, val_loader, epoch_name=\"Validation\")\n",
        "        if scheduler:\n",
        "            if isinstance(scheduler, optim.lr_scheduler.ReduceLROnPlateau):\n",
        "                scheduler.step(val_loss)\n",
        "            else:\n",
        "                scheduler.step()\n",
        "            current_lr = optimizer.param_groups[0]['lr']\n",
        "            print(f\"Current Learning Rate: {current_lr:.6f}\")\n",
        "\n",
        "\n",
        "        if val_loss < best_val_loss:\n",
        "            best_val_loss = val_loss\n",
        "            epochs_no_improve = 0\n",
        "            torch.save(model.state_dict(), '/content/CS610_AML_Group_Project/model_bank/best_cnn_resnet50.pth')\n",
        "            print(f\"Validation loss improved. Saving model to best_model.pth. Best Val Loss: {best_val_loss:.4f}\")\n",
        "        else:\n",
        "            epochs_no_improve += 1\n",
        "            print(f\"Validation loss did not improve. Epochs without improvement: {epochs_no_improve}\")"
      ],
      "metadata": {
        "id": "Vi1g2Xu_HHq8"
      },
      "execution_count": 164,
      "outputs": []
    },
    {
      "cell_type": "code",
      "source": [
        "train(model, train_loader, val_loader, epochs=100)"
      ],
      "metadata": {
        "colab": {
          "base_uri": "https://localhost:8080/"
        },
        "id": "ksUU5EoGHQCe",
        "outputId": "c039830e-d1d9-4319-eded-f7177eb88930"
      },
      "execution_count": 166,
      "outputs": [
        {
          "output_type": "stream",
          "name": "stderr",
          "text": []
        },
        {
          "output_type": "stream",
          "name": "stdout",
          "text": [
            "Epoch 1/100 - Train Loss: 0.1484, Train Accuracy: 95.59%\n"
          ]
        },
        {
          "output_type": "stream",
          "name": "stderr",
          "text": []
        },
        {
          "output_type": "stream",
          "name": "stdout",
          "text": [
            "Validation Loss: 0.8128, Accuracy: 79.71%\n",
            "Validation loss did not improve. Epochs without improvement: 3\n"
          ]
        },
        {
          "output_type": "stream",
          "name": "stderr",
          "text": []
        },
        {
          "output_type": "stream",
          "name": "stdout",
          "text": [
            "Epoch 2/100 - Train Loss: 0.1221, Train Accuracy: 96.54%\n"
          ]
        },
        {
          "output_type": "stream",
          "name": "stderr",
          "text": []
        },
        {
          "output_type": "stream",
          "name": "stdout",
          "text": [
            "Validation Loss: 0.7586, Accuracy: 81.56%\n",
            "Validation loss improved. Saving model to best_model.pth. Best Val Loss: 0.7586\n"
          ]
        },
        {
          "output_type": "stream",
          "name": "stderr",
          "text": []
        },
        {
          "output_type": "stream",
          "name": "stdout",
          "text": [
            "Epoch 3/100 - Train Loss: 0.1063, Train Accuracy: 96.89%\n"
          ]
        },
        {
          "output_type": "stream",
          "name": "stderr",
          "text": []
        },
        {
          "output_type": "stream",
          "name": "stdout",
          "text": [
            "Validation Loss: 0.7713, Accuracy: 81.02%\n",
            "Validation loss did not improve. Epochs without improvement: 1\n"
          ]
        },
        {
          "output_type": "stream",
          "name": "stderr",
          "text": []
        },
        {
          "output_type": "stream",
          "name": "stdout",
          "text": [
            "Epoch 4/100 - Train Loss: 0.1206, Train Accuracy: 96.47%\n"
          ]
        },
        {
          "output_type": "stream",
          "name": "stderr",
          "text": []
        },
        {
          "output_type": "stream",
          "name": "stdout",
          "text": [
            "Validation Loss: 1.0591, Accuracy: 76.31%\n",
            "Validation loss did not improve. Epochs without improvement: 2\n"
          ]
        },
        {
          "output_type": "stream",
          "name": "stderr",
          "text": []
        },
        {
          "output_type": "stream",
          "name": "stdout",
          "text": [
            "Epoch 5/100 - Train Loss: 0.1172, Train Accuracy: 96.38%\n"
          ]
        },
        {
          "output_type": "stream",
          "name": "stderr",
          "text": []
        },
        {
          "output_type": "stream",
          "name": "stdout",
          "text": [
            "Validation Loss: 0.9403, Accuracy: 78.63%\n",
            "Validation loss did not improve. Epochs without improvement: 3\n"
          ]
        },
        {
          "output_type": "stream",
          "name": "stderr",
          "text": []
        },
        {
          "output_type": "stream",
          "name": "stdout",
          "text": [
            "Epoch 6/100 - Train Loss: 0.1375, Train Accuracy: 95.90%\n"
          ]
        },
        {
          "output_type": "stream",
          "name": "stderr",
          "text": []
        },
        {
          "output_type": "stream",
          "name": "stdout",
          "text": [
            "Validation Loss: 0.8443, Accuracy: 79.86%\n",
            "Validation loss did not improve. Epochs without improvement: 4\n"
          ]
        },
        {
          "output_type": "stream",
          "name": "stderr",
          "text": []
        },
        {
          "output_type": "stream",
          "name": "stdout",
          "text": [
            "Epoch 7/100 - Train Loss: 0.1292, Train Accuracy: 95.92%\n"
          ]
        },
        {
          "output_type": "stream",
          "name": "stderr",
          "text": []
        },
        {
          "output_type": "stream",
          "name": "stdout",
          "text": [
            "Validation Loss: 0.7469, Accuracy: 81.94%\n",
            "Validation loss improved. Saving model to best_model.pth. Best Val Loss: 0.7469\n"
          ]
        },
        {
          "output_type": "stream",
          "name": "stderr",
          "text": []
        },
        {
          "output_type": "stream",
          "name": "stdout",
          "text": [
            "Epoch 8/100 - Train Loss: 0.1107, Train Accuracy: 96.60%\n"
          ]
        },
        {
          "output_type": "stream",
          "name": "stderr",
          "text": []
        },
        {
          "output_type": "stream",
          "name": "stdout",
          "text": [
            "Validation Loss: 0.7838, Accuracy: 80.48%\n",
            "Validation loss did not improve. Epochs without improvement: 1\n"
          ]
        },
        {
          "output_type": "stream",
          "name": "stderr",
          "text": []
        },
        {
          "output_type": "stream",
          "name": "stdout",
          "text": [
            "Epoch 9/100 - Train Loss: 0.0969, Train Accuracy: 97.07%\n"
          ]
        },
        {
          "output_type": "stream",
          "name": "stderr",
          "text": []
        },
        {
          "output_type": "stream",
          "name": "stdout",
          "text": [
            "Validation Loss: 0.9409, Accuracy: 78.24%\n",
            "Validation loss did not improve. Epochs without improvement: 2\n"
          ]
        },
        {
          "output_type": "stream",
          "name": "stderr",
          "text": []
        },
        {
          "output_type": "stream",
          "name": "stdout",
          "text": [
            "Epoch 10/100 - Train Loss: 0.0977, Train Accuracy: 97.20%\n"
          ]
        },
        {
          "output_type": "stream",
          "name": "stderr",
          "text": []
        },
        {
          "output_type": "stream",
          "name": "stdout",
          "text": [
            "Validation Loss: 0.8608, Accuracy: 81.25%\n",
            "Validation loss did not improve. Epochs without improvement: 3\n"
          ]
        },
        {
          "output_type": "stream",
          "name": "stderr",
          "text": []
        },
        {
          "output_type": "stream",
          "name": "stdout",
          "text": [
            "Epoch 11/100 - Train Loss: 0.0721, Train Accuracy: 98.02%\n"
          ]
        },
        {
          "output_type": "stream",
          "name": "stderr",
          "text": []
        },
        {
          "output_type": "stream",
          "name": "stdout",
          "text": [
            "Validation Loss: 0.8281, Accuracy: 80.09%\n",
            "Validation loss did not improve. Epochs without improvement: 4\n"
          ]
        },
        {
          "output_type": "stream",
          "name": "stderr",
          "text": []
        },
        {
          "output_type": "stream",
          "name": "stdout",
          "text": [
            "Epoch 12/100 - Train Loss: 0.0754, Train Accuracy: 97.60%\n"
          ]
        },
        {
          "output_type": "stream",
          "name": "stderr",
          "text": []
        },
        {
          "output_type": "stream",
          "name": "stdout",
          "text": [
            "Validation Loss: 0.8369, Accuracy: 80.71%\n",
            "Validation loss did not improve. Epochs without improvement: 5\n"
          ]
        },
        {
          "output_type": "stream",
          "name": "stderr",
          "text": []
        },
        {
          "output_type": "stream",
          "name": "stdout",
          "text": [
            "Epoch 13/100 - Train Loss: 0.0750, Train Accuracy: 97.86%\n"
          ]
        },
        {
          "output_type": "stream",
          "name": "stderr",
          "text": []
        },
        {
          "output_type": "stream",
          "name": "stdout",
          "text": [
            "Validation Loss: 0.9010, Accuracy: 79.55%\n",
            "Validation loss did not improve. Epochs without improvement: 6\n"
          ]
        },
        {
          "output_type": "stream",
          "name": "stderr",
          "text": []
        },
        {
          "output_type": "stream",
          "name": "stdout",
          "text": [
            "Epoch 14/100 - Train Loss: 0.1024, Train Accuracy: 96.76%\n"
          ]
        },
        {
          "output_type": "stream",
          "name": "stderr",
          "text": []
        },
        {
          "output_type": "stream",
          "name": "stdout",
          "text": [
            "Validation Loss: 1.0144, Accuracy: 76.00%\n",
            "Validation loss did not improve. Epochs without improvement: 7\n"
          ]
        },
        {
          "output_type": "stream",
          "name": "stderr",
          "text": []
        },
        {
          "output_type": "stream",
          "name": "stdout",
          "text": [
            "Epoch 15/100 - Train Loss: 0.1156, Train Accuracy: 96.45%\n"
          ]
        },
        {
          "output_type": "stream",
          "name": "stderr",
          "text": []
        },
        {
          "output_type": "stream",
          "name": "stdout",
          "text": [
            "Validation Loss: 0.8596, Accuracy: 80.63%\n",
            "Validation loss did not improve. Epochs without improvement: 8\n"
          ]
        },
        {
          "output_type": "stream",
          "name": "stderr",
          "text": []
        },
        {
          "output_type": "stream",
          "name": "stdout",
          "text": [
            "Epoch 16/100 - Train Loss: 0.0973, Train Accuracy: 97.07%\n"
          ]
        },
        {
          "output_type": "stream",
          "name": "stderr",
          "text": []
        },
        {
          "output_type": "stream",
          "name": "stdout",
          "text": [
            "Validation Loss: 0.9252, Accuracy: 78.63%\n",
            "Validation loss did not improve. Epochs without improvement: 9\n"
          ]
        },
        {
          "output_type": "stream",
          "name": "stderr",
          "text": []
        },
        {
          "output_type": "stream",
          "name": "stdout",
          "text": [
            "Epoch 17/100 - Train Loss: 0.1042, Train Accuracy: 96.76%\n"
          ]
        },
        {
          "output_type": "stream",
          "name": "stderr",
          "text": []
        },
        {
          "output_type": "stream",
          "name": "stdout",
          "text": [
            "Validation Loss: 0.9031, Accuracy: 78.70%\n",
            "Validation loss did not improve. Epochs without improvement: 10\n"
          ]
        },
        {
          "output_type": "stream",
          "name": "stderr",
          "text": []
        },
        {
          "output_type": "stream",
          "name": "stdout",
          "text": [
            "Epoch 18/100 - Train Loss: 0.0989, Train Accuracy: 97.00%\n"
          ]
        },
        {
          "output_type": "stream",
          "name": "stderr",
          "text": []
        },
        {
          "output_type": "stream",
          "name": "stdout",
          "text": [
            "Validation Loss: 0.9629, Accuracy: 79.24%\n",
            "Validation loss did not improve. Epochs without improvement: 11\n"
          ]
        },
        {
          "output_type": "stream",
          "name": "stderr",
          "text": []
        },
        {
          "output_type": "stream",
          "name": "stdout",
          "text": [
            "Epoch 19/100 - Train Loss: 0.0772, Train Accuracy: 97.69%\n"
          ]
        },
        {
          "output_type": "stream",
          "name": "stderr",
          "text": []
        },
        {
          "output_type": "stream",
          "name": "stdout",
          "text": [
            "Validation Loss: 0.9113, Accuracy: 80.79%\n",
            "Validation loss did not improve. Epochs without improvement: 12\n"
          ]
        },
        {
          "output_type": "stream",
          "name": "stderr",
          "text": []
        },
        {
          "output_type": "stream",
          "name": "stdout",
          "text": [
            "Epoch 20/100 - Train Loss: 0.0766, Train Accuracy: 97.46%\n"
          ]
        },
        {
          "output_type": "stream",
          "name": "stderr",
          "text": []
        },
        {
          "output_type": "stream",
          "name": "stdout",
          "text": [
            "Validation Loss: 0.8868, Accuracy: 80.56%\n",
            "Validation loss did not improve. Epochs without improvement: 13\n"
          ]
        },
        {
          "output_type": "stream",
          "name": "stderr",
          "text": []
        },
        {
          "output_type": "stream",
          "name": "stdout",
          "text": [
            "Epoch 21/100 - Train Loss: 0.0826, Train Accuracy: 97.62%\n"
          ]
        },
        {
          "output_type": "stream",
          "name": "stderr",
          "text": []
        },
        {
          "output_type": "stream",
          "name": "stdout",
          "text": [
            "Validation Loss: 0.9068, Accuracy: 80.63%\n",
            "Validation loss did not improve. Epochs without improvement: 14\n"
          ]
        },
        {
          "output_type": "stream",
          "name": "stderr",
          "text": []
        },
        {
          "output_type": "stream",
          "name": "stdout",
          "text": [
            "Epoch 22/100 - Train Loss: 0.0691, Train Accuracy: 98.15%\n"
          ]
        },
        {
          "output_type": "stream",
          "name": "stderr",
          "text": []
        },
        {
          "output_type": "stream",
          "name": "stdout",
          "text": [
            "Validation Loss: 0.8352, Accuracy: 81.02%\n",
            "Validation loss did not improve. Epochs without improvement: 15\n"
          ]
        },
        {
          "output_type": "stream",
          "name": "stderr",
          "text": []
        },
        {
          "output_type": "stream",
          "name": "stdout",
          "text": [
            "Epoch 23/100 - Train Loss: 0.1096, Train Accuracy: 96.74%\n"
          ]
        },
        {
          "output_type": "stream",
          "name": "stderr",
          "text": []
        },
        {
          "output_type": "stream",
          "name": "stdout",
          "text": [
            "Validation Loss: 0.8705, Accuracy: 80.86%\n",
            "Validation loss did not improve. Epochs without improvement: 16\n"
          ]
        },
        {
          "output_type": "stream",
          "name": "stderr",
          "text": []
        },
        {
          "output_type": "stream",
          "name": "stdout",
          "text": [
            "Epoch 24/100 - Train Loss: 0.0758, Train Accuracy: 97.86%\n"
          ]
        },
        {
          "output_type": "stream",
          "name": "stderr",
          "text": []
        },
        {
          "output_type": "stream",
          "name": "stdout",
          "text": [
            "Validation Loss: 0.7997, Accuracy: 81.25%\n",
            "Validation loss did not improve. Epochs without improvement: 17\n"
          ]
        },
        {
          "output_type": "stream",
          "name": "stderr",
          "text": []
        },
        {
          "output_type": "stream",
          "name": "stdout",
          "text": [
            "Epoch 25/100 - Train Loss: 0.0878, Train Accuracy: 97.42%\n"
          ]
        },
        {
          "output_type": "stream",
          "name": "stderr",
          "text": []
        },
        {
          "output_type": "stream",
          "name": "stdout",
          "text": [
            "Validation Loss: 0.9044, Accuracy: 80.94%\n",
            "Validation loss did not improve. Epochs without improvement: 18\n"
          ]
        },
        {
          "output_type": "stream",
          "name": "stderr",
          "text": []
        },
        {
          "output_type": "stream",
          "name": "stdout",
          "text": [
            "Epoch 26/100 - Train Loss: 0.0811, Train Accuracy: 97.51%\n"
          ]
        },
        {
          "output_type": "stream",
          "name": "stderr",
          "text": []
        },
        {
          "output_type": "stream",
          "name": "stdout",
          "text": [
            "Validation Loss: 0.9269, Accuracy: 80.94%\n",
            "Validation loss did not improve. Epochs without improvement: 19\n"
          ]
        },
        {
          "output_type": "stream",
          "name": "stderr",
          "text": []
        },
        {
          "output_type": "stream",
          "name": "stdout",
          "text": [
            "Epoch 27/100 - Train Loss: 0.0721, Train Accuracy: 97.46%\n"
          ]
        },
        {
          "output_type": "stream",
          "name": "stderr",
          "text": []
        },
        {
          "output_type": "stream",
          "name": "stdout",
          "text": [
            "Validation Loss: 0.9327, Accuracy: 80.56%\n",
            "Validation loss did not improve. Epochs without improvement: 20\n"
          ]
        },
        {
          "output_type": "stream",
          "name": "stderr",
          "text": []
        },
        {
          "output_type": "stream",
          "name": "stdout",
          "text": [
            "Epoch 28/100 - Train Loss: 0.0727, Train Accuracy: 97.71%\n"
          ]
        },
        {
          "output_type": "stream",
          "name": "stderr",
          "text": []
        },
        {
          "output_type": "stream",
          "name": "stdout",
          "text": [
            "Validation Loss: 0.9830, Accuracy: 77.62%\n",
            "Validation loss did not improve. Epochs without improvement: 21\n"
          ]
        },
        {
          "output_type": "stream",
          "name": "stderr",
          "text": []
        },
        {
          "output_type": "stream",
          "name": "stdout",
          "text": [
            "Epoch 29/100 - Train Loss: 0.0827, Train Accuracy: 97.55%\n"
          ]
        },
        {
          "output_type": "stream",
          "name": "stderr",
          "text": []
        },
        {
          "output_type": "stream",
          "name": "stdout",
          "text": [
            "Validation Loss: 0.9863, Accuracy: 79.71%\n",
            "Validation loss did not improve. Epochs without improvement: 22\n"
          ]
        },
        {
          "output_type": "stream",
          "name": "stderr",
          "text": []
        },
        {
          "output_type": "stream",
          "name": "stdout",
          "text": [
            "Epoch 30/100 - Train Loss: 0.0769, Train Accuracy: 97.69%\n"
          ]
        },
        {
          "output_type": "stream",
          "name": "stderr",
          "text": []
        },
        {
          "output_type": "stream",
          "name": "stdout",
          "text": [
            "Validation Loss: 1.0100, Accuracy: 77.39%\n",
            "Validation loss did not improve. Epochs without improvement: 23\n"
          ]
        },
        {
          "output_type": "stream",
          "name": "stderr",
          "text": []
        },
        {
          "output_type": "stream",
          "name": "stdout",
          "text": [
            "Epoch 31/100 - Train Loss: 0.0934, Train Accuracy: 97.07%\n"
          ]
        },
        {
          "output_type": "stream",
          "name": "stderr",
          "text": []
        },
        {
          "output_type": "stream",
          "name": "stdout",
          "text": [
            "Validation Loss: 0.9196, Accuracy: 78.63%\n",
            "Validation loss did not improve. Epochs without improvement: 24\n"
          ]
        },
        {
          "output_type": "stream",
          "name": "stderr",
          "text": []
        },
        {
          "output_type": "stream",
          "name": "stdout",
          "text": [
            "Epoch 32/100 - Train Loss: 0.0717, Train Accuracy: 97.42%\n"
          ]
        },
        {
          "output_type": "stream",
          "name": "stderr",
          "text": []
        },
        {
          "output_type": "stream",
          "name": "stdout",
          "text": [
            "Validation Loss: 0.8933, Accuracy: 79.71%\n",
            "Validation loss did not improve. Epochs without improvement: 25\n"
          ]
        },
        {
          "output_type": "stream",
          "name": "stderr",
          "text": []
        },
        {
          "output_type": "stream",
          "name": "stdout",
          "text": [
            "Epoch 33/100 - Train Loss: 0.0521, Train Accuracy: 98.57%\n"
          ]
        },
        {
          "output_type": "stream",
          "name": "stderr",
          "text": []
        },
        {
          "output_type": "stream",
          "name": "stdout",
          "text": [
            "Validation Loss: 0.9539, Accuracy: 79.17%\n",
            "Validation loss did not improve. Epochs without improvement: 26\n"
          ]
        },
        {
          "output_type": "stream",
          "name": "stderr",
          "text": []
        },
        {
          "output_type": "stream",
          "name": "stdout",
          "text": [
            "Epoch 34/100 - Train Loss: 0.0518, Train Accuracy: 98.52%\n"
          ]
        },
        {
          "output_type": "stream",
          "name": "stderr",
          "text": []
        },
        {
          "output_type": "stream",
          "name": "stdout",
          "text": [
            "Validation Loss: 0.9032, Accuracy: 81.02%\n",
            "Validation loss did not improve. Epochs without improvement: 27\n"
          ]
        },
        {
          "output_type": "stream",
          "name": "stderr",
          "text": []
        },
        {
          "output_type": "stream",
          "name": "stdout",
          "text": [
            "Epoch 35/100 - Train Loss: 0.0647, Train Accuracy: 97.84%\n"
          ]
        },
        {
          "output_type": "stream",
          "name": "stderr",
          "text": []
        },
        {
          "output_type": "stream",
          "name": "stdout",
          "text": [
            "Validation Loss: 0.9309, Accuracy: 81.02%\n",
            "Validation loss did not improve. Epochs without improvement: 28\n"
          ]
        },
        {
          "output_type": "stream",
          "name": "stderr",
          "text": []
        },
        {
          "output_type": "stream",
          "name": "stdout",
          "text": [
            "Epoch 36/100 - Train Loss: 0.0696, Train Accuracy: 98.04%\n"
          ]
        },
        {
          "output_type": "stream",
          "name": "stderr",
          "text": []
        },
        {
          "output_type": "stream",
          "name": "stdout",
          "text": [
            "Validation Loss: 0.9530, Accuracy: 79.32%\n",
            "Validation loss did not improve. Epochs without improvement: 29\n"
          ]
        },
        {
          "output_type": "stream",
          "name": "stderr",
          "text": []
        },
        {
          "output_type": "stream",
          "name": "stdout",
          "text": [
            "Epoch 37/100 - Train Loss: 0.0692, Train Accuracy: 97.71%\n"
          ]
        },
        {
          "output_type": "stream",
          "name": "stderr",
          "text": []
        },
        {
          "output_type": "stream",
          "name": "stdout",
          "text": [
            "Validation Loss: 0.9771, Accuracy: 79.01%\n",
            "Validation loss did not improve. Epochs without improvement: 30\n"
          ]
        },
        {
          "output_type": "stream",
          "name": "stderr",
          "text": []
        },
        {
          "output_type": "stream",
          "name": "stdout",
          "text": [
            "Epoch 38/100 - Train Loss: 0.0981, Train Accuracy: 96.72%\n"
          ]
        },
        {
          "output_type": "stream",
          "name": "stderr",
          "text": []
        },
        {
          "output_type": "stream",
          "name": "stdout",
          "text": [
            "Validation Loss: 1.0134, Accuracy: 79.48%\n",
            "Validation loss did not improve. Epochs without improvement: 31\n"
          ]
        },
        {
          "output_type": "stream",
          "name": "stderr",
          "text": []
        },
        {
          "output_type": "stream",
          "name": "stdout",
          "text": [
            "Epoch 39/100 - Train Loss: 0.0856, Train Accuracy: 97.62%\n"
          ]
        },
        {
          "output_type": "stream",
          "name": "stderr",
          "text": []
        },
        {
          "output_type": "stream",
          "name": "stdout",
          "text": [
            "Validation Loss: 0.9684, Accuracy: 80.17%\n",
            "Validation loss did not improve. Epochs without improvement: 32\n"
          ]
        },
        {
          "output_type": "stream",
          "name": "stderr",
          "text": []
        },
        {
          "output_type": "stream",
          "name": "stdout",
          "text": [
            "Epoch 40/100 - Train Loss: 0.0658, Train Accuracy: 98.17%\n"
          ]
        },
        {
          "output_type": "stream",
          "name": "stderr",
          "text": []
        },
        {
          "output_type": "stream",
          "name": "stdout",
          "text": [
            "Validation Loss: 0.7535, Accuracy: 83.18%\n",
            "Validation loss did not improve. Epochs without improvement: 33\n"
          ]
        },
        {
          "output_type": "stream",
          "name": "stderr",
          "text": []
        },
        {
          "output_type": "stream",
          "name": "stdout",
          "text": [
            "Epoch 41/100 - Train Loss: 0.0605, Train Accuracy: 98.26%\n"
          ]
        },
        {
          "output_type": "stream",
          "name": "stderr",
          "text": []
        },
        {
          "output_type": "stream",
          "name": "stdout",
          "text": [
            "Validation Loss: 1.0327, Accuracy: 78.70%\n",
            "Validation loss did not improve. Epochs without improvement: 34\n"
          ]
        },
        {
          "output_type": "stream",
          "name": "stderr",
          "text": []
        },
        {
          "output_type": "stream",
          "name": "stdout",
          "text": [
            "Epoch 42/100 - Train Loss: 0.0549, Train Accuracy: 98.46%\n"
          ]
        },
        {
          "output_type": "stream",
          "name": "stderr",
          "text": []
        },
        {
          "output_type": "stream",
          "name": "stdout",
          "text": [
            "Validation Loss: 0.8339, Accuracy: 82.79%\n",
            "Validation loss did not improve. Epochs without improvement: 35\n"
          ]
        },
        {
          "output_type": "stream",
          "name": "stderr",
          "text": []
        },
        {
          "output_type": "stream",
          "name": "stdout",
          "text": [
            "Epoch 43/100 - Train Loss: 0.0566, Train Accuracy: 98.30%\n"
          ]
        },
        {
          "output_type": "stream",
          "name": "stderr",
          "text": []
        },
        {
          "output_type": "stream",
          "name": "stdout",
          "text": [
            "Validation Loss: 0.9391, Accuracy: 80.25%\n",
            "Validation loss did not improve. Epochs without improvement: 36\n"
          ]
        },
        {
          "output_type": "stream",
          "name": "stderr",
          "text": []
        },
        {
          "output_type": "stream",
          "name": "stdout",
          "text": [
            "Epoch 44/100 - Train Loss: 0.0731, Train Accuracy: 97.77%\n"
          ]
        },
        {
          "output_type": "stream",
          "name": "stderr",
          "text": []
        },
        {
          "output_type": "stream",
          "name": "stdout",
          "text": [
            "Validation Loss: 0.7831, Accuracy: 82.18%\n",
            "Validation loss did not improve. Epochs without improvement: 37\n"
          ]
        },
        {
          "output_type": "stream",
          "name": "stderr",
          "text": []
        },
        {
          "output_type": "stream",
          "name": "stdout",
          "text": [
            "Epoch 45/100 - Train Loss: 0.0548, Train Accuracy: 98.30%\n"
          ]
        },
        {
          "output_type": "stream",
          "name": "stderr",
          "text": []
        },
        {
          "output_type": "stream",
          "name": "stdout",
          "text": [
            "Validation Loss: 0.8398, Accuracy: 81.17%\n",
            "Validation loss did not improve. Epochs without improvement: 38\n"
          ]
        },
        {
          "output_type": "stream",
          "name": "stderr",
          "text": []
        },
        {
          "output_type": "stream",
          "name": "stdout",
          "text": [
            "Epoch 46/100 - Train Loss: 0.0717, Train Accuracy: 97.88%\n"
          ]
        },
        {
          "output_type": "stream",
          "name": "stderr",
          "text": []
        },
        {
          "output_type": "stream",
          "name": "stdout",
          "text": [
            "Validation Loss: 0.9209, Accuracy: 80.71%\n",
            "Validation loss did not improve. Epochs without improvement: 39\n"
          ]
        },
        {
          "output_type": "stream",
          "name": "stderr",
          "text": []
        },
        {
          "output_type": "stream",
          "name": "stdout",
          "text": [
            "Epoch 47/100 - Train Loss: 0.0695, Train Accuracy: 97.80%\n"
          ]
        },
        {
          "output_type": "stream",
          "name": "stderr",
          "text": []
        },
        {
          "output_type": "stream",
          "name": "stdout",
          "text": [
            "Validation Loss: 0.9259, Accuracy: 80.40%\n",
            "Validation loss did not improve. Epochs without improvement: 40\n"
          ]
        },
        {
          "output_type": "stream",
          "name": "stderr",
          "text": []
        },
        {
          "output_type": "stream",
          "name": "stdout",
          "text": [
            "Epoch 48/100 - Train Loss: 0.0704, Train Accuracy: 97.84%\n"
          ]
        },
        {
          "output_type": "stream",
          "name": "stderr",
          "text": []
        },
        {
          "output_type": "stream",
          "name": "stdout",
          "text": [
            "Validation Loss: 1.0057, Accuracy: 77.47%\n",
            "Validation loss did not improve. Epochs without improvement: 41\n"
          ]
        },
        {
          "output_type": "stream",
          "name": "stderr",
          "text": []
        },
        {
          "output_type": "stream",
          "name": "stdout",
          "text": [
            "Epoch 49/100 - Train Loss: 0.0826, Train Accuracy: 97.49%\n"
          ]
        },
        {
          "output_type": "stream",
          "name": "stderr",
          "text": []
        },
        {
          "output_type": "stream",
          "name": "stdout",
          "text": [
            "Validation Loss: 1.0125, Accuracy: 79.63%\n",
            "Validation loss did not improve. Epochs without improvement: 42\n"
          ]
        },
        {
          "output_type": "stream",
          "name": "stderr",
          "text": []
        },
        {
          "output_type": "stream",
          "name": "stdout",
          "text": [
            "Epoch 50/100 - Train Loss: 0.0802, Train Accuracy: 97.62%\n"
          ]
        },
        {
          "output_type": "stream",
          "name": "stderr",
          "text": []
        },
        {
          "output_type": "stream",
          "name": "stdout",
          "text": [
            "Validation Loss: 0.9124, Accuracy: 81.25%\n",
            "Validation loss did not improve. Epochs without improvement: 43\n"
          ]
        },
        {
          "output_type": "stream",
          "name": "stderr",
          "text": []
        },
        {
          "output_type": "stream",
          "name": "stdout",
          "text": [
            "Epoch 51/100 - Train Loss: 0.0631, Train Accuracy: 97.80%\n"
          ]
        },
        {
          "output_type": "stream",
          "name": "stderr",
          "text": []
        },
        {
          "output_type": "stream",
          "name": "stdout",
          "text": [
            "Validation Loss: 0.9740, Accuracy: 79.63%\n",
            "Validation loss did not improve. Epochs without improvement: 44\n"
          ]
        },
        {
          "output_type": "stream",
          "name": "stderr",
          "text": []
        },
        {
          "output_type": "stream",
          "name": "stdout",
          "text": [
            "Epoch 52/100 - Train Loss: 0.0538, Train Accuracy: 98.21%\n"
          ]
        },
        {
          "output_type": "stream",
          "name": "stderr",
          "text": []
        },
        {
          "output_type": "stream",
          "name": "stdout",
          "text": [
            "Validation Loss: 0.8454, Accuracy: 82.18%\n",
            "Validation loss did not improve. Epochs without improvement: 45\n"
          ]
        },
        {
          "output_type": "stream",
          "name": "stderr",
          "text": []
        },
        {
          "output_type": "stream",
          "name": "stdout",
          "text": [
            "Epoch 53/100 - Train Loss: 0.0392, Train Accuracy: 98.68%\n"
          ]
        },
        {
          "output_type": "stream",
          "name": "stderr",
          "text": []
        },
        {
          "output_type": "stream",
          "name": "stdout",
          "text": [
            "Validation Loss: 0.8607, Accuracy: 81.79%\n",
            "Validation loss did not improve. Epochs without improvement: 46\n"
          ]
        },
        {
          "output_type": "stream",
          "name": "stderr",
          "text": []
        },
        {
          "output_type": "stream",
          "name": "stdout",
          "text": [
            "Epoch 54/100 - Train Loss: 0.0468, Train Accuracy: 98.63%\n"
          ]
        },
        {
          "output_type": "stream",
          "name": "stderr",
          "text": []
        },
        {
          "output_type": "stream",
          "name": "stdout",
          "text": [
            "Validation Loss: 0.9222, Accuracy: 80.17%\n",
            "Validation loss did not improve. Epochs without improvement: 47\n"
          ]
        },
        {
          "output_type": "stream",
          "name": "stderr",
          "text": []
        },
        {
          "output_type": "stream",
          "name": "stdout",
          "text": [
            "Epoch 55/100 - Train Loss: 0.0473, Train Accuracy: 98.50%\n"
          ]
        },
        {
          "output_type": "stream",
          "name": "stderr",
          "text": []
        },
        {
          "output_type": "stream",
          "name": "stdout",
          "text": [
            "Validation Loss: 0.8950, Accuracy: 81.17%\n",
            "Validation loss did not improve. Epochs without improvement: 48\n"
          ]
        },
        {
          "output_type": "stream",
          "name": "stderr",
          "text": []
        },
        {
          "output_type": "stream",
          "name": "stdout",
          "text": [
            "Epoch 56/100 - Train Loss: 0.0753, Train Accuracy: 97.75%\n"
          ]
        },
        {
          "output_type": "stream",
          "name": "stderr",
          "text": []
        },
        {
          "output_type": "stream",
          "name": "stdout",
          "text": [
            "Validation Loss: 1.1984, Accuracy: 76.31%\n",
            "Validation loss did not improve. Epochs without improvement: 49\n"
          ]
        },
        {
          "output_type": "stream",
          "name": "stderr",
          "text": []
        },
        {
          "output_type": "stream",
          "name": "stdout",
          "text": [
            "Epoch 57/100 - Train Loss: 0.0591, Train Accuracy: 98.02%\n"
          ]
        },
        {
          "output_type": "stream",
          "name": "stderr",
          "text": []
        },
        {
          "output_type": "stream",
          "name": "stdout",
          "text": [
            "Validation Loss: 0.8349, Accuracy: 81.02%\n",
            "Validation loss did not improve. Epochs without improvement: 50\n"
          ]
        },
        {
          "output_type": "stream",
          "name": "stderr",
          "text": []
        },
        {
          "output_type": "stream",
          "name": "stdout",
          "text": [
            "Epoch 58/100 - Train Loss: 0.0453, Train Accuracy: 98.61%\n"
          ]
        },
        {
          "output_type": "stream",
          "name": "stderr",
          "text": []
        },
        {
          "output_type": "stream",
          "name": "stdout",
          "text": [
            "Validation Loss: 0.8604, Accuracy: 81.87%\n",
            "Validation loss did not improve. Epochs without improvement: 51\n"
          ]
        },
        {
          "output_type": "stream",
          "name": "stderr",
          "text": []
        },
        {
          "output_type": "stream",
          "name": "stdout",
          "text": [
            "Epoch 59/100 - Train Loss: 0.0398, Train Accuracy: 98.81%\n"
          ]
        },
        {
          "output_type": "stream",
          "name": "stderr",
          "text": []
        },
        {
          "output_type": "stream",
          "name": "stdout",
          "text": [
            "Validation Loss: 0.9414, Accuracy: 81.17%\n",
            "Validation loss did not improve. Epochs without improvement: 52\n"
          ]
        },
        {
          "output_type": "stream",
          "name": "stderr",
          "text": []
        },
        {
          "output_type": "stream",
          "name": "stdout",
          "text": [
            "Epoch 60/100 - Train Loss: 0.0665, Train Accuracy: 98.15%\n"
          ]
        },
        {
          "output_type": "stream",
          "name": "stderr",
          "text": []
        },
        {
          "output_type": "stream",
          "name": "stdout",
          "text": [
            "Validation Loss: 1.0799, Accuracy: 77.01%\n",
            "Validation loss did not improve. Epochs without improvement: 53\n"
          ]
        },
        {
          "output_type": "stream",
          "name": "stderr",
          "text": []
        },
        {
          "output_type": "stream",
          "name": "stdout",
          "text": [
            "Epoch 61/100 - Train Loss: 0.0484, Train Accuracy: 98.48%\n"
          ]
        },
        {
          "output_type": "stream",
          "name": "stderr",
          "text": []
        },
        {
          "output_type": "stream",
          "name": "stdout",
          "text": [
            "Validation Loss: 1.0589, Accuracy: 79.40%\n",
            "Validation loss did not improve. Epochs without improvement: 54\n"
          ]
        },
        {
          "output_type": "stream",
          "name": "stderr",
          "text": []
        },
        {
          "output_type": "stream",
          "name": "stdout",
          "text": [
            "Epoch 62/100 - Train Loss: 0.0517, Train Accuracy: 98.32%\n"
          ]
        },
        {
          "output_type": "stream",
          "name": "stderr",
          "text": []
        },
        {
          "output_type": "stream",
          "name": "stdout",
          "text": [
            "Validation Loss: 0.9527, Accuracy: 80.56%\n",
            "Validation loss did not improve. Epochs without improvement: 55\n"
          ]
        },
        {
          "output_type": "stream",
          "name": "stderr",
          "text": []
        },
        {
          "output_type": "stream",
          "name": "stdout",
          "text": [
            "Epoch 63/100 - Train Loss: 0.0447, Train Accuracy: 98.59%\n"
          ]
        },
        {
          "output_type": "stream",
          "name": "stderr",
          "text": []
        },
        {
          "output_type": "stream",
          "name": "stdout",
          "text": [
            "Validation Loss: 1.0046, Accuracy: 79.32%\n",
            "Validation loss did not improve. Epochs without improvement: 56\n"
          ]
        },
        {
          "output_type": "stream",
          "name": "stderr",
          "text": []
        },
        {
          "output_type": "stream",
          "name": "stdout",
          "text": [
            "Epoch 64/100 - Train Loss: 0.0550, Train Accuracy: 98.30%\n"
          ]
        },
        {
          "output_type": "stream",
          "name": "stderr",
          "text": []
        },
        {
          "output_type": "stream",
          "name": "stdout",
          "text": [
            "Validation Loss: 1.0114, Accuracy: 80.02%\n",
            "Validation loss did not improve. Epochs without improvement: 57\n"
          ]
        },
        {
          "output_type": "stream",
          "name": "stderr",
          "text": []
        },
        {
          "output_type": "stream",
          "name": "stdout",
          "text": [
            "Epoch 65/100 - Train Loss: 0.0524, Train Accuracy: 98.48%\n"
          ]
        },
        {
          "output_type": "stream",
          "name": "stderr",
          "text": []
        },
        {
          "output_type": "stream",
          "name": "stdout",
          "text": [
            "Validation Loss: 1.1207, Accuracy: 77.78%\n",
            "Validation loss did not improve. Epochs without improvement: 58\n"
          ]
        },
        {
          "output_type": "stream",
          "name": "stderr",
          "text": []
        },
        {
          "output_type": "stream",
          "name": "stdout",
          "text": [
            "Epoch 66/100 - Train Loss: 0.0438, Train Accuracy: 98.79%\n"
          ]
        },
        {
          "output_type": "stream",
          "name": "stderr",
          "text": []
        },
        {
          "output_type": "stream",
          "name": "stdout",
          "text": [
            "Validation Loss: 0.9397, Accuracy: 81.02%\n",
            "Validation loss did not improve. Epochs without improvement: 59\n"
          ]
        },
        {
          "output_type": "stream",
          "name": "stderr",
          "text": []
        },
        {
          "output_type": "stream",
          "name": "stdout",
          "text": [
            "Epoch 67/100 - Train Loss: 0.0560, Train Accuracy: 98.13%\n"
          ]
        },
        {
          "output_type": "stream",
          "name": "stderr",
          "text": []
        },
        {
          "output_type": "stream",
          "name": "stdout",
          "text": [
            "Validation Loss: 0.9033, Accuracy: 81.71%\n",
            "Validation loss did not improve. Epochs without improvement: 60\n"
          ]
        },
        {
          "output_type": "stream",
          "name": "stderr",
          "text": []
        },
        {
          "output_type": "stream",
          "name": "stdout",
          "text": [
            "Epoch 68/100 - Train Loss: 0.0421, Train Accuracy: 98.66%\n"
          ]
        },
        {
          "output_type": "stream",
          "name": "stderr",
          "text": []
        },
        {
          "output_type": "stream",
          "name": "stdout",
          "text": [
            "Validation Loss: 0.9743, Accuracy: 80.94%\n",
            "Validation loss did not improve. Epochs without improvement: 61\n"
          ]
        },
        {
          "output_type": "stream",
          "name": "stderr",
          "text": []
        },
        {
          "output_type": "stream",
          "name": "stdout",
          "text": [
            "Epoch 69/100 - Train Loss: 0.0330, Train Accuracy: 98.83%\n"
          ]
        },
        {
          "output_type": "stream",
          "name": "stderr",
          "text": []
        },
        {
          "output_type": "stream",
          "name": "stdout",
          "text": [
            "Validation Loss: 0.9948, Accuracy: 79.32%\n",
            "Validation loss did not improve. Epochs without improvement: 62\n"
          ]
        },
        {
          "output_type": "stream",
          "name": "stderr",
          "text": []
        },
        {
          "output_type": "stream",
          "name": "stdout",
          "text": [
            "Epoch 70/100 - Train Loss: 0.0698, Train Accuracy: 97.82%\n"
          ]
        },
        {
          "output_type": "stream",
          "name": "stderr",
          "text": []
        },
        {
          "output_type": "stream",
          "name": "stdout",
          "text": [
            "Validation Loss: 0.9313, Accuracy: 80.32%\n",
            "Validation loss did not improve. Epochs without improvement: 63\n"
          ]
        },
        {
          "output_type": "stream",
          "name": "stderr",
          "text": []
        },
        {
          "output_type": "stream",
          "name": "stdout",
          "text": [
            "Epoch 71/100 - Train Loss: 0.0548, Train Accuracy: 98.24%\n"
          ]
        },
        {
          "output_type": "stream",
          "name": "stderr",
          "text": []
        },
        {
          "output_type": "stream",
          "name": "stdout",
          "text": [
            "Validation Loss: 0.8113, Accuracy: 81.94%\n",
            "Validation loss did not improve. Epochs without improvement: 64\n"
          ]
        },
        {
          "output_type": "stream",
          "name": "stderr",
          "text": []
        },
        {
          "output_type": "stream",
          "name": "stdout",
          "text": [
            "Epoch 72/100 - Train Loss: 0.0502, Train Accuracy: 98.46%\n"
          ]
        },
        {
          "output_type": "stream",
          "name": "stderr",
          "text": []
        },
        {
          "output_type": "stream",
          "name": "stdout",
          "text": [
            "Validation Loss: 0.8781, Accuracy: 81.56%\n",
            "Validation loss did not improve. Epochs without improvement: 65\n"
          ]
        },
        {
          "output_type": "stream",
          "name": "stderr",
          "text": []
        },
        {
          "output_type": "stream",
          "name": "stdout",
          "text": [
            "Epoch 73/100 - Train Loss: 0.0440, Train Accuracy: 98.57%\n"
          ]
        },
        {
          "output_type": "stream",
          "name": "stderr",
          "text": []
        },
        {
          "output_type": "stream",
          "name": "stdout",
          "text": [
            "Validation Loss: 0.9774, Accuracy: 80.02%\n",
            "Validation loss did not improve. Epochs without improvement: 66\n"
          ]
        },
        {
          "output_type": "stream",
          "name": "stderr",
          "text": []
        },
        {
          "output_type": "stream",
          "name": "stdout",
          "text": [
            "Epoch 74/100 - Train Loss: 0.0612, Train Accuracy: 98.30%\n"
          ]
        },
        {
          "output_type": "stream",
          "name": "stderr",
          "text": []
        },
        {
          "output_type": "stream",
          "name": "stdout",
          "text": [
            "Validation Loss: 0.9661, Accuracy: 79.32%\n",
            "Validation loss did not improve. Epochs without improvement: 67\n"
          ]
        },
        {
          "output_type": "stream",
          "name": "stderr",
          "text": []
        },
        {
          "output_type": "stream",
          "name": "stdout",
          "text": [
            "Epoch 75/100 - Train Loss: 0.0604, Train Accuracy: 98.15%\n"
          ]
        },
        {
          "output_type": "stream",
          "name": "stderr",
          "text": []
        },
        {
          "output_type": "stream",
          "name": "stdout",
          "text": [
            "Validation Loss: 0.9700, Accuracy: 80.40%\n",
            "Validation loss did not improve. Epochs without improvement: 68\n"
          ]
        },
        {
          "output_type": "stream",
          "name": "stderr",
          "text": []
        },
        {
          "output_type": "stream",
          "name": "stdout",
          "text": [
            "Epoch 76/100 - Train Loss: 0.0439, Train Accuracy: 98.59%\n"
          ]
        },
        {
          "output_type": "stream",
          "name": "stderr",
          "text": []
        },
        {
          "output_type": "stream",
          "name": "stdout",
          "text": [
            "Validation Loss: 0.8906, Accuracy: 81.10%\n",
            "Validation loss did not improve. Epochs without improvement: 69\n"
          ]
        },
        {
          "output_type": "stream",
          "name": "stderr",
          "text": []
        },
        {
          "output_type": "stream",
          "name": "stdout",
          "text": [
            "Epoch 77/100 - Train Loss: 0.0353, Train Accuracy: 98.94%\n"
          ]
        },
        {
          "output_type": "stream",
          "name": "stderr",
          "text": []
        },
        {
          "output_type": "stream",
          "name": "stdout",
          "text": [
            "Validation Loss: 0.8989, Accuracy: 82.33%\n",
            "Validation loss did not improve. Epochs without improvement: 70\n"
          ]
        },
        {
          "output_type": "stream",
          "name": "stderr",
          "text": []
        },
        {
          "output_type": "stream",
          "name": "stdout",
          "text": [
            "Epoch 78/100 - Train Loss: 0.0493, Train Accuracy: 98.32%\n"
          ]
        },
        {
          "output_type": "stream",
          "name": "stderr",
          "text": []
        },
        {
          "output_type": "stream",
          "name": "stdout",
          "text": [
            "Validation Loss: 1.0247, Accuracy: 79.48%\n",
            "Validation loss did not improve. Epochs without improvement: 71\n"
          ]
        },
        {
          "output_type": "stream",
          "name": "stderr",
          "text": []
        },
        {
          "output_type": "stream",
          "name": "stdout",
          "text": [
            "Epoch 79/100 - Train Loss: 0.0419, Train Accuracy: 98.66%\n"
          ]
        },
        {
          "output_type": "stream",
          "name": "stderr",
          "text": []
        },
        {
          "output_type": "stream",
          "name": "stdout",
          "text": [
            "Validation Loss: 0.9305, Accuracy: 81.48%\n",
            "Validation loss did not improve. Epochs without improvement: 72\n"
          ]
        },
        {
          "output_type": "stream",
          "name": "stderr",
          "text": []
        },
        {
          "output_type": "stream",
          "name": "stdout",
          "text": [
            "Epoch 80/100 - Train Loss: 0.0386, Train Accuracy: 98.63%\n"
          ]
        },
        {
          "output_type": "stream",
          "name": "stderr",
          "text": []
        },
        {
          "output_type": "stream",
          "name": "stdout",
          "text": [
            "Validation Loss: 1.0000, Accuracy: 80.48%\n",
            "Validation loss did not improve. Epochs without improvement: 73\n"
          ]
        },
        {
          "output_type": "stream",
          "name": "stderr",
          "text": []
        },
        {
          "output_type": "stream",
          "name": "stdout",
          "text": [
            "Epoch 81/100 - Train Loss: 0.0468, Train Accuracy: 98.63%\n"
          ]
        },
        {
          "output_type": "stream",
          "name": "stderr",
          "text": []
        },
        {
          "output_type": "stream",
          "name": "stdout",
          "text": [
            "Validation Loss: 0.9341, Accuracy: 80.71%\n",
            "Validation loss did not improve. Epochs without improvement: 74\n"
          ]
        },
        {
          "output_type": "stream",
          "name": "stderr",
          "text": []
        },
        {
          "output_type": "stream",
          "name": "stdout",
          "text": [
            "Epoch 82/100 - Train Loss: 0.0508, Train Accuracy: 98.30%\n"
          ]
        },
        {
          "output_type": "stream",
          "name": "stderr",
          "text": []
        },
        {
          "output_type": "stream",
          "name": "stdout",
          "text": [
            "Validation Loss: 1.0613, Accuracy: 78.94%\n",
            "Validation loss did not improve. Epochs without improvement: 75\n"
          ]
        },
        {
          "output_type": "stream",
          "name": "stderr",
          "text": []
        },
        {
          "output_type": "stream",
          "name": "stdout",
          "text": [
            "Epoch 83/100 - Train Loss: 0.0565, Train Accuracy: 98.24%\n"
          ]
        },
        {
          "output_type": "stream",
          "name": "stderr",
          "text": []
        },
        {
          "output_type": "stream",
          "name": "stdout",
          "text": [
            "Validation Loss: 0.9861, Accuracy: 80.63%\n",
            "Validation loss did not improve. Epochs without improvement: 76\n"
          ]
        },
        {
          "output_type": "stream",
          "name": "stderr",
          "text": []
        },
        {
          "output_type": "stream",
          "name": "stdout",
          "text": [
            "Epoch 84/100 - Train Loss: 0.0701, Train Accuracy: 97.80%\n"
          ]
        },
        {
          "output_type": "stream",
          "name": "stderr",
          "text": []
        },
        {
          "output_type": "stream",
          "name": "stdout",
          "text": [
            "Validation Loss: 1.0263, Accuracy: 79.32%\n",
            "Validation loss did not improve. Epochs without improvement: 77\n"
          ]
        },
        {
          "output_type": "stream",
          "name": "stderr",
          "text": []
        },
        {
          "output_type": "stream",
          "name": "stdout",
          "text": [
            "Epoch 85/100 - Train Loss: 0.0567, Train Accuracy: 98.19%\n"
          ]
        },
        {
          "output_type": "stream",
          "name": "stderr",
          "text": []
        },
        {
          "output_type": "stream",
          "name": "stdout",
          "text": [
            "Validation Loss: 0.9294, Accuracy: 80.25%\n",
            "Validation loss did not improve. Epochs without improvement: 78\n"
          ]
        },
        {
          "output_type": "stream",
          "name": "stderr",
          "text": []
        },
        {
          "output_type": "stream",
          "name": "stdout",
          "text": [
            "Epoch 86/100 - Train Loss: 0.0527, Train Accuracy: 98.57%\n"
          ]
        },
        {
          "output_type": "stream",
          "name": "stderr",
          "text": []
        },
        {
          "output_type": "stream",
          "name": "stdout",
          "text": [
            "Validation Loss: 1.1900, Accuracy: 78.09%\n",
            "Validation loss did not improve. Epochs without improvement: 79\n"
          ]
        },
        {
          "output_type": "stream",
          "name": "stderr",
          "text": []
        },
        {
          "output_type": "stream",
          "name": "stdout",
          "text": [
            "Epoch 87/100 - Train Loss: 0.0552, Train Accuracy: 98.41%\n"
          ]
        },
        {
          "output_type": "stream",
          "name": "stderr",
          "text": []
        },
        {
          "output_type": "stream",
          "name": "stdout",
          "text": [
            "Validation Loss: 0.9203, Accuracy: 80.63%\n",
            "Validation loss did not improve. Epochs without improvement: 80\n"
          ]
        },
        {
          "output_type": "stream",
          "name": "stderr",
          "text": []
        },
        {
          "output_type": "stream",
          "name": "stdout",
          "text": [
            "Epoch 88/100 - Train Loss: 0.0449, Train Accuracy: 98.59%\n"
          ]
        },
        {
          "output_type": "stream",
          "name": "stderr",
          "text": []
        },
        {
          "output_type": "stream",
          "name": "stdout",
          "text": [
            "Validation Loss: 1.0597, Accuracy: 80.63%\n",
            "Validation loss did not improve. Epochs without improvement: 81\n"
          ]
        },
        {
          "output_type": "stream",
          "name": "stderr",
          "text": []
        },
        {
          "output_type": "stream",
          "name": "stdout",
          "text": [
            "Epoch 89/100 - Train Loss: 0.0326, Train Accuracy: 98.77%\n"
          ]
        },
        {
          "output_type": "stream",
          "name": "stderr",
          "text": []
        },
        {
          "output_type": "stream",
          "name": "stdout",
          "text": [
            "Validation Loss: 1.0069, Accuracy: 79.55%\n",
            "Validation loss did not improve. Epochs without improvement: 82\n"
          ]
        },
        {
          "output_type": "stream",
          "name": "stderr",
          "text": []
        },
        {
          "output_type": "stream",
          "name": "stdout",
          "text": [
            "Epoch 90/100 - Train Loss: 0.0343, Train Accuracy: 98.94%\n"
          ]
        },
        {
          "output_type": "stream",
          "name": "stderr",
          "text": []
        },
        {
          "output_type": "stream",
          "name": "stdout",
          "text": [
            "Validation Loss: 0.9095, Accuracy: 81.25%\n",
            "Validation loss did not improve. Epochs without improvement: 83\n"
          ]
        },
        {
          "output_type": "stream",
          "name": "stderr",
          "text": []
        },
        {
          "output_type": "stream",
          "name": "stdout",
          "text": [
            "Epoch 91/100 - Train Loss: 0.0294, Train Accuracy: 99.05%\n"
          ]
        },
        {
          "output_type": "stream",
          "name": "stderr",
          "text": []
        },
        {
          "output_type": "stream",
          "name": "stdout",
          "text": [
            "Validation Loss: 0.9138, Accuracy: 81.64%\n",
            "Validation loss did not improve. Epochs without improvement: 84\n"
          ]
        },
        {
          "output_type": "stream",
          "name": "stderr",
          "text": []
        },
        {
          "output_type": "stream",
          "name": "stdout",
          "text": [
            "Epoch 92/100 - Train Loss: 0.0351, Train Accuracy: 98.85%\n"
          ]
        },
        {
          "output_type": "stream",
          "name": "stderr",
          "text": []
        },
        {
          "output_type": "stream",
          "name": "stdout",
          "text": [
            "Validation Loss: 1.0402, Accuracy: 80.40%\n",
            "Validation loss did not improve. Epochs without improvement: 85\n"
          ]
        },
        {
          "output_type": "stream",
          "name": "stderr",
          "text": []
        },
        {
          "output_type": "stream",
          "name": "stdout",
          "text": [
            "Epoch 93/100 - Train Loss: 0.0354, Train Accuracy: 99.01%\n"
          ]
        },
        {
          "output_type": "stream",
          "name": "stderr",
          "text": []
        },
        {
          "output_type": "stream",
          "name": "stdout",
          "text": [
            "Validation Loss: 0.9104, Accuracy: 81.48%\n",
            "Validation loss did not improve. Epochs without improvement: 86\n"
          ]
        },
        {
          "output_type": "stream",
          "name": "stderr",
          "text": []
        },
        {
          "output_type": "stream",
          "name": "stdout",
          "text": [
            "Epoch 94/100 - Train Loss: 0.0196, Train Accuracy: 99.36%\n"
          ]
        },
        {
          "output_type": "stream",
          "name": "stderr",
          "text": []
        },
        {
          "output_type": "stream",
          "name": "stdout",
          "text": [
            "Validation Loss: 0.9664, Accuracy: 81.02%\n",
            "Validation loss did not improve. Epochs without improvement: 87\n"
          ]
        },
        {
          "output_type": "stream",
          "name": "stderr",
          "text": []
        },
        {
          "output_type": "stream",
          "name": "stdout",
          "text": [
            "Epoch 95/100 - Train Loss: 0.0314, Train Accuracy: 98.99%\n"
          ]
        },
        {
          "output_type": "stream",
          "name": "stderr",
          "text": []
        },
        {
          "output_type": "stream",
          "name": "stdout",
          "text": [
            "Validation Loss: 1.1442, Accuracy: 78.55%\n",
            "Validation loss did not improve. Epochs without improvement: 88\n"
          ]
        },
        {
          "output_type": "stream",
          "name": "stderr",
          "text": []
        },
        {
          "output_type": "stream",
          "name": "stdout",
          "text": [
            "Epoch 96/100 - Train Loss: 0.0495, Train Accuracy: 98.59%\n"
          ]
        },
        {
          "output_type": "stream",
          "name": "stderr",
          "text": []
        },
        {
          "output_type": "stream",
          "name": "stdout",
          "text": [
            "Validation Loss: 0.8993, Accuracy: 81.56%\n",
            "Validation loss did not improve. Epochs without improvement: 89\n"
          ]
        },
        {
          "output_type": "stream",
          "name": "stderr",
          "text": []
        },
        {
          "output_type": "stream",
          "name": "stdout",
          "text": [
            "Epoch 97/100 - Train Loss: 0.0464, Train Accuracy: 98.48%\n"
          ]
        },
        {
          "output_type": "stream",
          "name": "stderr",
          "text": []
        },
        {
          "output_type": "stream",
          "name": "stdout",
          "text": [
            "Validation Loss: 0.9743, Accuracy: 80.63%\n",
            "Validation loss did not improve. Epochs without improvement: 90\n"
          ]
        },
        {
          "output_type": "stream",
          "name": "stderr",
          "text": []
        },
        {
          "output_type": "stream",
          "name": "stdout",
          "text": [
            "Epoch 98/100 - Train Loss: 0.0343, Train Accuracy: 98.99%\n"
          ]
        },
        {
          "output_type": "stream",
          "name": "stderr",
          "text": []
        },
        {
          "output_type": "stream",
          "name": "stdout",
          "text": [
            "Validation Loss: 0.9230, Accuracy: 82.25%\n",
            "Validation loss did not improve. Epochs without improvement: 91\n"
          ]
        },
        {
          "output_type": "stream",
          "name": "stderr",
          "text": []
        },
        {
          "output_type": "stream",
          "name": "stdout",
          "text": [
            "Epoch 99/100 - Train Loss: 0.0327, Train Accuracy: 98.90%\n"
          ]
        },
        {
          "output_type": "stream",
          "name": "stderr",
          "text": []
        },
        {
          "output_type": "stream",
          "name": "stdout",
          "text": [
            "Validation Loss: 0.8836, Accuracy: 82.64%\n",
            "Validation loss did not improve. Epochs without improvement: 92\n"
          ]
        },
        {
          "output_type": "stream",
          "name": "stderr",
          "text": []
        },
        {
          "output_type": "stream",
          "name": "stdout",
          "text": [
            "Epoch 100/100 - Train Loss: 0.0284, Train Accuracy: 99.12%\n"
          ]
        },
        {
          "output_type": "stream",
          "name": "stderr",
          "text": [
            "                                                                 "
          ]
        },
        {
          "output_type": "stream",
          "name": "stdout",
          "text": [
            "Validation Loss: 0.9646, Accuracy: 80.63%\n",
            "Validation loss did not improve. Epochs without improvement: 93\n"
          ]
        },
        {
          "output_type": "stream",
          "name": "stderr",
          "text": [
            "\r"
          ]
        }
      ]
    },
    {
      "cell_type": "code",
      "source": [
        "evaluate(model, train_loader, epoch_name=\"Train Metrics\")\n",
        "\n",
        "# You can also get more detailed metrics like precision, recall, and F1-score using classification_report\n",
        "model.eval()\n",
        "all_preds = []\n",
        "all_labels = []\n",
        "with torch.no_grad():\n",
        "    for images, labels in test_loader:\n",
        "        images, labels = images.to(device), labels.to(device)\n",
        "        outputs = model(images)\n",
        "        preds = torch.argmax(outputs, dim=1)\n",
        "        all_preds.extend(preds.cpu().numpy())\n",
        "        all_labels.extend(labels.cpu().numpy())\n",
        "\n",
        "print(\"\\nClassification Report on Train Set:\")\n",
        "print(classification_report(all_labels, all_preds, target_names=class_names))\n"
      ],
      "metadata": {
        "colab": {
          "base_uri": "https://localhost:8080/"
        },
        "id": "1R4VTy9XGV-r",
        "outputId": "fd79b8b5-f443-4ef9-86f0-d5c1493c2d7f"
      },
      "execution_count": 167,
      "outputs": [
        {
          "output_type": "stream",
          "name": "stderr",
          "text": [
            "                                                                      "
          ]
        },
        {
          "output_type": "stream",
          "name": "stdout",
          "text": [
            "Train Metrics Loss: 0.0183, Accuracy: 99.38%\n"
          ]
        },
        {
          "output_type": "stream",
          "name": "stderr",
          "text": [
            "\r"
          ]
        },
        {
          "output_type": "stream",
          "name": "stdout",
          "text": [
            "\n",
            "Classification Report on Train Set:\n",
            "                                     precision    recall  f1-score   support\n",
            "\n",
            "                  adidas_forum_high       1.00      0.82      0.90        11\n",
            "                   adidas_forum_low       0.89      0.80      0.84        10\n",
            "                     adidas_gazelle       0.70      0.78      0.74        18\n",
            "                      adidas_nmd_r1       0.91      0.83      0.87        12\n",
            "                       adidas_samba       0.77      0.83      0.80        12\n",
            "                  adidas_stan_smith       0.92      0.75      0.83        16\n",
            "                   adidas_superstar       0.80      0.50      0.62         8\n",
            "                  adidas_ultraboost       1.00      1.00      1.00        11\n",
            "                 asics_gel-lyte_iii       1.00      0.71      0.83         7\n",
            "             converse_chuck_70_high       0.82      0.64      0.72        14\n",
            "              converse_chuck_70_low       0.67      0.82      0.74        17\n",
            "converse_chuck_taylor_all-star_high       0.64      0.69      0.67        13\n",
            " converse_chuck_taylor_all-star_low       0.75      0.75      0.75        12\n",
            "                  converse_one_star       0.94      0.73      0.82        22\n",
            "                    new_balance_327       0.89      0.57      0.70        14\n",
            "                    new_balance_550       0.59      0.83      0.69        12\n",
            "                    new_balance_574       0.90      0.60      0.72        15\n",
            "                    new_balance_990       0.41      1.00      0.58         7\n",
            "                    new_balance_992       1.00      0.77      0.87        13\n",
            "              nike_air_force_1_high       0.48      0.79      0.59        14\n",
            "               nike_air_force_1_low       0.61      1.00      0.76        17\n",
            "               nike_air_force_1_mid       0.75      0.64      0.69        14\n",
            "                 nike_air_jordan_11       0.86      0.75      0.80         8\n",
            "             nike_air_jordan_1_high       0.73      0.79      0.76        14\n",
            "              nike_air_jordan_1_low       0.50      0.20      0.29        10\n",
            "                  nike_air_jordan_3       0.62      0.71      0.67         7\n",
            "                  nike_air_jordan_4       0.90      0.72      0.80        25\n",
            "                     nike_air_max_1       0.58      0.70      0.64        10\n",
            "                   nike_air_max_270       0.91      0.77      0.83        13\n",
            "                    nike_air_max_90       0.94      0.71      0.81        21\n",
            "                    nike_air_max_95       1.00      0.60      0.75        10\n",
            "                    nike_air_max_97       0.75      0.90      0.82        10\n",
            "             nike_air_max_plus_(tn)       0.73      0.73      0.73        11\n",
            "          nike_air_vapormax_flyknit       0.73      0.95      0.83        20\n",
            "             nike_air_vapormax_plus       1.00      0.71      0.83        14\n",
            "                 nike_blazer_mid_77       0.88      0.78      0.82         9\n",
            "                        nike_cortez       0.89      0.94      0.92        18\n",
            "                     nike_dunk_high       0.92      0.69      0.79        16\n",
            "                      nike_dunk_low       0.55      0.75      0.63         8\n",
            "                 puma_suede_classic       1.00      0.80      0.89        15\n",
            "             reebok_classic_leather       1.00      0.60      0.75         5\n",
            "                   reebok_club_c_85       0.45      0.62      0.53         8\n",
            "                       salomon_xt-6       0.69      0.85      0.76        13\n",
            "                     vans_authentic       0.75      0.92      0.83        13\n",
            "                     vans_old_skool       1.00      0.86      0.92        14\n",
            "                        vans_sk8-hi       0.78      0.82      0.80        17\n",
            "          vans_slip-on_checkerboard       0.80      1.00      0.89        12\n",
            "              yeezy_700_wave_runner       0.87      1.00      0.93        13\n",
            "                 yeezy_boost_350_v2       1.00      0.94      0.97        16\n",
            "                        yeezy_slide       0.90      1.00      0.95         9\n",
            "\n",
            "                           accuracy                           0.78       648\n",
            "                          macro avg       0.80      0.77      0.77       648\n",
            "                       weighted avg       0.81      0.78      0.78       648\n",
            "\n"
          ]
        }
      ]
    },
    {
      "cell_type": "code",
      "source": [
        "evaluate(model, val_loader, epoch_name=\"Validation Metrics\")\n",
        "\n",
        "# You can also get more detailed metrics like precision, recall, and F1-score using classification_report\n",
        "model.eval()\n",
        "all_preds = []\n",
        "all_labels = []\n",
        "with torch.no_grad():\n",
        "    for images, labels in test_loader:\n",
        "        images, labels = images.to(device), labels.to(device)\n",
        "        outputs = model(images)\n",
        "        preds = torch.argmax(outputs, dim=1)\n",
        "        all_preds.extend(preds.cpu().numpy())\n",
        "        all_labels.extend(labels.cpu().numpy())\n",
        "\n",
        "print(\"\\nClassification Report on Validation Set:\")\n",
        "print(classification_report(all_labels, all_preds, target_names=class_names))\n"
      ],
      "metadata": {
        "colab": {
          "base_uri": "https://localhost:8080/"
        },
        "id": "dVCkkbo1IPc-",
        "outputId": "b83e99ae-5a07-4193-bd96-7500a65dd664"
      },
      "execution_count": 168,
      "outputs": [
        {
          "output_type": "stream",
          "name": "stderr",
          "text": [
            "                                                                         "
          ]
        },
        {
          "output_type": "stream",
          "name": "stdout",
          "text": [
            "Validation Metrics Loss: 0.9646, Accuracy: 80.63%\n"
          ]
        },
        {
          "output_type": "stream",
          "name": "stderr",
          "text": [
            "\r"
          ]
        },
        {
          "output_type": "stream",
          "name": "stdout",
          "text": [
            "\n",
            "Classification Report on Validation Set:\n",
            "                                     precision    recall  f1-score   support\n",
            "\n",
            "                  adidas_forum_high       1.00      0.82      0.90        11\n",
            "                   adidas_forum_low       0.89      0.80      0.84        10\n",
            "                     adidas_gazelle       0.70      0.78      0.74        18\n",
            "                      adidas_nmd_r1       0.91      0.83      0.87        12\n",
            "                       adidas_samba       0.77      0.83      0.80        12\n",
            "                  adidas_stan_smith       0.92      0.75      0.83        16\n",
            "                   adidas_superstar       0.80      0.50      0.62         8\n",
            "                  adidas_ultraboost       1.00      1.00      1.00        11\n",
            "                 asics_gel-lyte_iii       1.00      0.71      0.83         7\n",
            "             converse_chuck_70_high       0.82      0.64      0.72        14\n",
            "              converse_chuck_70_low       0.67      0.82      0.74        17\n",
            "converse_chuck_taylor_all-star_high       0.64      0.69      0.67        13\n",
            " converse_chuck_taylor_all-star_low       0.75      0.75      0.75        12\n",
            "                  converse_one_star       0.94      0.73      0.82        22\n",
            "                    new_balance_327       0.89      0.57      0.70        14\n",
            "                    new_balance_550       0.59      0.83      0.69        12\n",
            "                    new_balance_574       0.90      0.60      0.72        15\n",
            "                    new_balance_990       0.41      1.00      0.58         7\n",
            "                    new_balance_992       1.00      0.77      0.87        13\n",
            "              nike_air_force_1_high       0.48      0.79      0.59        14\n",
            "               nike_air_force_1_low       0.61      1.00      0.76        17\n",
            "               nike_air_force_1_mid       0.75      0.64      0.69        14\n",
            "                 nike_air_jordan_11       0.86      0.75      0.80         8\n",
            "             nike_air_jordan_1_high       0.73      0.79      0.76        14\n",
            "              nike_air_jordan_1_low       0.50      0.20      0.29        10\n",
            "                  nike_air_jordan_3       0.62      0.71      0.67         7\n",
            "                  nike_air_jordan_4       0.90      0.72      0.80        25\n",
            "                     nike_air_max_1       0.58      0.70      0.64        10\n",
            "                   nike_air_max_270       0.91      0.77      0.83        13\n",
            "                    nike_air_max_90       0.94      0.71      0.81        21\n",
            "                    nike_air_max_95       1.00      0.60      0.75        10\n",
            "                    nike_air_max_97       0.75      0.90      0.82        10\n",
            "             nike_air_max_plus_(tn)       0.73      0.73      0.73        11\n",
            "          nike_air_vapormax_flyknit       0.73      0.95      0.83        20\n",
            "             nike_air_vapormax_plus       1.00      0.71      0.83        14\n",
            "                 nike_blazer_mid_77       0.88      0.78      0.82         9\n",
            "                        nike_cortez       0.89      0.94      0.92        18\n",
            "                     nike_dunk_high       0.92      0.69      0.79        16\n",
            "                      nike_dunk_low       0.55      0.75      0.63         8\n",
            "                 puma_suede_classic       1.00      0.80      0.89        15\n",
            "             reebok_classic_leather       1.00      0.60      0.75         5\n",
            "                   reebok_club_c_85       0.45      0.62      0.53         8\n",
            "                       salomon_xt-6       0.69      0.85      0.76        13\n",
            "                     vans_authentic       0.75      0.92      0.83        13\n",
            "                     vans_old_skool       1.00      0.86      0.92        14\n",
            "                        vans_sk8-hi       0.78      0.82      0.80        17\n",
            "          vans_slip-on_checkerboard       0.80      1.00      0.89        12\n",
            "              yeezy_700_wave_runner       0.87      1.00      0.93        13\n",
            "                 yeezy_boost_350_v2       1.00      0.94      0.97        16\n",
            "                        yeezy_slide       0.90      1.00      0.95         9\n",
            "\n",
            "                           accuracy                           0.78       648\n",
            "                          macro avg       0.80      0.77      0.77       648\n",
            "                       weighted avg       0.81      0.78      0.78       648\n",
            "\n"
          ]
        }
      ]
    },
    {
      "cell_type": "code",
      "source": [
        "evaluate(model, test_loader, epoch_name=\"Test Metrics\")\n",
        "\n",
        "# You can also get more detailed metrics like precision, recall, and F1-score using classification_report\n",
        "model.eval()\n",
        "all_preds = []\n",
        "all_labels = []\n",
        "with torch.no_grad():\n",
        "    for images, labels in test_loader:\n",
        "        images, labels = images.to(device), labels.to(device)\n",
        "        outputs = model(images)\n",
        "        preds = torch.argmax(outputs, dim=1)\n",
        "        all_preds.extend(preds.cpu().numpy())\n",
        "        all_labels.extend(labels.cpu().numpy())\n",
        "\n",
        "print(\"\\nClassification Report on Test Set:\")\n",
        "print(classification_report(all_labels, all_preds, target_names=class_names))"
      ],
      "metadata": {
        "colab": {
          "base_uri": "https://localhost:8080/"
        },
        "id": "sfwkTv2BKwbG",
        "outputId": "6db41254-8e49-422a-9d65-928115f17836"
      },
      "execution_count": 169,
      "outputs": [
        {
          "output_type": "stream",
          "name": "stderr",
          "text": [
            "                                                                   "
          ]
        },
        {
          "output_type": "stream",
          "name": "stdout",
          "text": [
            "Test Metrics Loss: 1.0767, Accuracy: 78.09%\n"
          ]
        },
        {
          "output_type": "stream",
          "name": "stderr",
          "text": [
            "\r"
          ]
        },
        {
          "output_type": "stream",
          "name": "stdout",
          "text": [
            "\n",
            "Classification Report on Test Set:\n",
            "                                     precision    recall  f1-score   support\n",
            "\n",
            "                  adidas_forum_high       1.00      0.82      0.90        11\n",
            "                   adidas_forum_low       0.89      0.80      0.84        10\n",
            "                     adidas_gazelle       0.70      0.78      0.74        18\n",
            "                      adidas_nmd_r1       0.91      0.83      0.87        12\n",
            "                       adidas_samba       0.77      0.83      0.80        12\n",
            "                  adidas_stan_smith       0.92      0.75      0.83        16\n",
            "                   adidas_superstar       0.80      0.50      0.62         8\n",
            "                  adidas_ultraboost       1.00      1.00      1.00        11\n",
            "                 asics_gel-lyte_iii       1.00      0.71      0.83         7\n",
            "             converse_chuck_70_high       0.82      0.64      0.72        14\n",
            "              converse_chuck_70_low       0.67      0.82      0.74        17\n",
            "converse_chuck_taylor_all-star_high       0.64      0.69      0.67        13\n",
            " converse_chuck_taylor_all-star_low       0.75      0.75      0.75        12\n",
            "                  converse_one_star       0.94      0.73      0.82        22\n",
            "                    new_balance_327       0.89      0.57      0.70        14\n",
            "                    new_balance_550       0.59      0.83      0.69        12\n",
            "                    new_balance_574       0.90      0.60      0.72        15\n",
            "                    new_balance_990       0.41      1.00      0.58         7\n",
            "                    new_balance_992       1.00      0.77      0.87        13\n",
            "              nike_air_force_1_high       0.48      0.79      0.59        14\n",
            "               nike_air_force_1_low       0.61      1.00      0.76        17\n",
            "               nike_air_force_1_mid       0.75      0.64      0.69        14\n",
            "                 nike_air_jordan_11       0.86      0.75      0.80         8\n",
            "             nike_air_jordan_1_high       0.73      0.79      0.76        14\n",
            "              nike_air_jordan_1_low       0.50      0.20      0.29        10\n",
            "                  nike_air_jordan_3       0.62      0.71      0.67         7\n",
            "                  nike_air_jordan_4       0.90      0.72      0.80        25\n",
            "                     nike_air_max_1       0.58      0.70      0.64        10\n",
            "                   nike_air_max_270       0.91      0.77      0.83        13\n",
            "                    nike_air_max_90       0.94      0.71      0.81        21\n",
            "                    nike_air_max_95       1.00      0.60      0.75        10\n",
            "                    nike_air_max_97       0.75      0.90      0.82        10\n",
            "             nike_air_max_plus_(tn)       0.73      0.73      0.73        11\n",
            "          nike_air_vapormax_flyknit       0.73      0.95      0.83        20\n",
            "             nike_air_vapormax_plus       1.00      0.71      0.83        14\n",
            "                 nike_blazer_mid_77       0.88      0.78      0.82         9\n",
            "                        nike_cortez       0.89      0.94      0.92        18\n",
            "                     nike_dunk_high       0.92      0.69      0.79        16\n",
            "                      nike_dunk_low       0.55      0.75      0.63         8\n",
            "                 puma_suede_classic       1.00      0.80      0.89        15\n",
            "             reebok_classic_leather       1.00      0.60      0.75         5\n",
            "                   reebok_club_c_85       0.45      0.62      0.53         8\n",
            "                       salomon_xt-6       0.69      0.85      0.76        13\n",
            "                     vans_authentic       0.75      0.92      0.83        13\n",
            "                     vans_old_skool       1.00      0.86      0.92        14\n",
            "                        vans_sk8-hi       0.78      0.82      0.80        17\n",
            "          vans_slip-on_checkerboard       0.80      1.00      0.89        12\n",
            "              yeezy_700_wave_runner       0.87      1.00      0.93        13\n",
            "                 yeezy_boost_350_v2       1.00      0.94      0.97        16\n",
            "                        yeezy_slide       0.90      1.00      0.95         9\n",
            "\n",
            "                           accuracy                           0.78       648\n",
            "                          macro avg       0.80      0.77      0.77       648\n",
            "                       weighted avg       0.81      0.78      0.78       648\n",
            "\n"
          ]
        }
      ]
    },
    {
      "cell_type": "code",
      "source": [],
      "metadata": {
        "id": "oVspH4D4K1uC"
      },
      "execution_count": null,
      "outputs": []
    }
  ]
}